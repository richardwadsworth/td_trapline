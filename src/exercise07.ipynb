{
 "cells": [
  {
   "cell_type": "code",
   "execution_count": 15,
   "metadata": {},
   "outputs": [],
   "source": [
    "import numpy as np\n",
    "from numpy.random import random, choice\n",
    "import matplotlib.pyplot as plt\n",
    "%matplotlib inline\n",
    "\n",
    "import gym\n",
    "from gym.envs.toy_text.frozen_lake import generate_random_map"
   ]
  },
  {
   "cell_type": "code",
   "execution_count": 16,
   "metadata": {},
   "outputs": [],
   "source": [
    "class Policy(object):\n",
    "\n",
    "    def __init__(self, env) -> None:\n",
    "        self.env = env\n",
    "\n",
    "    def action(self, q, index):\n",
    "        \"\"\"\n",
    "        implement this function in the sub class\n",
    "        \"\"\"\n",
    "        raise NotImplementedError()\n",
    "\n",
    "    def average_performance(self, policy_fct, q):\n",
    "    \n",
    "        acc_returns = 0.\n",
    "        n = 500\n",
    "        for i in range(n):\n",
    "            done, truncated = False, False\n",
    "            s = self.env.reset()\n",
    "            while not done and not truncated:\n",
    "                a = policy_fct(q, s)\n",
    "                s, reward, done, truncated, info = self.env.step(a)\n",
    "                acc_returns += reward\n",
    "\n",
    "        return acc_returns/n\n",
    "\n",
    "class GreedyPolicy(Policy):\n",
    "\n",
    "    def __init__(self, env):\n",
    "        super().__init__(env)\n",
    "\n",
    "    def action(self, q, s):\n",
    "        return np.argmax(q[s])\n",
    "\n",
    "class SoftmaxPolicy(Policy):\n",
    "    \n",
    "    def __init__(self, env, rng):\n",
    "        super().__init__(env)\n",
    "        self.rng = rng\n",
    "\n",
    "\n",
    "    def action(self, q, s, T):\n",
    "        probs = np.exp(q[s]/T) / np.sum(np.exp(q[s]/T))\n",
    "        probs =  probs/ np.sum(probs) # Ensure probs is normalised to 1 (to avoid rounding errors)\n",
    "        randchoice = self.rng.random()\n",
    "        flag = 1; k = 1\n",
    "        while flag:\n",
    "\n",
    "            if randchoice<np.sum(probs[0:k]):\n",
    "                action = k-1 # adjust for zero based action index\n",
    "                flag = 0\n",
    "            \n",
    "            k = k + 1\n",
    "\n",
    "        return action\n",
    "\n",
    "    def get_action(self, T):     \n",
    "        return lambda q,s: self.action(q, s, T=T)"
   ]
  },
  {
   "cell_type": "code",
   "execution_count": 17,
   "metadata": {},
   "outputs": [],
   "source": [
    "# parameters for sarsa(lambda)\n",
    "episodes = 2000\n",
    "STEPS = 500\n",
    "gamma = 0.9\n",
    "\n",
    "alpha_critic = 0.02\n",
    "alpha_actor = 0.02\n",
    "\n",
    "epsilon_start = 1\n",
    "epsilon_end = 0.2\n",
    "epsilon_annealing_stop = int(episodes*0.7)\n",
    "\n",
    "eligibility_decay = 0.3"
   ]
  },
  {
   "cell_type": "code",
   "execution_count": 18,
   "metadata": {},
   "outputs": [
    {
     "name": "stdout",
     "output_type": "stream",
     "text": [
      "Action space =  Discrete(4)\n",
      "Observation space =  Discrete(256)\n",
      "Optimal policy:\n",
      "L/D/R   U     U     U  \n",
      "  L     -    L/R    -  \n",
      "  U     D     L     -  \n",
      "  -     R     D     !  \n"
     ]
    }
   ],
   "source": [
    "desc = generate_random_map(size=16, p=1.0)\n",
    "env = gym.make('FrozenLake-v1', is_slippery=False, new_step_api=True, desc=desc, max_episode_steps=STEPS)\n",
    "\n",
    "print(\"Action space = \", env.action_space)\n",
    "print(\"Observation space = \", env.observation_space)\n",
    "\n",
    "actionsDict = {}\n",
    "actionsDict[0] = \"  L  \"\n",
    "actionsDict[1] = \"  D  \"\n",
    "actionsDict[2] = \"  R  \"\n",
    "actionsDict[3] = \"  U  \"\n",
    "\n",
    "actionsDictInv = {}\n",
    "actionsDictInv[\"L\"] = 0\n",
    "actionsDictInv[\"D\"] = 1\n",
    "actionsDictInv[\"R\"] = 2\n",
    "actionsDictInv[\"U\"] = 3\n",
    "\n",
    "optimalPolicy = [\"L/D/R\",\"  U  \",\"  U  \",\"  U  \",\n",
    "                 \"  L  \",\"  -  \",\" L/R \",\"  -  \",\n",
    "                 \"  U  \",\"  D  \",\"  L  \",\"  -  \",\n",
    "                 \"  -  \",\"  R  \",\"  D  \",\"  !  \"]\n",
    "    \n",
    "print(\"Optimal policy:\")\n",
    "idxs = [0,4,8,12]\n",
    "for idx in idxs:\n",
    "    print(optimalPolicy[idx+0], optimalPolicy[idx+1], \n",
    "          optimalPolicy[idx+2], optimalPolicy[idx+3])"
   ]
  },
  {
   "cell_type": "code",
   "execution_count": 19,
   "metadata": {},
   "outputs": [
    {
     "data": {
      "text/plain": [
       "0"
      ]
     },
     "execution_count": 19,
     "metadata": {},
     "output_type": "execute_result"
    }
   ],
   "source": [
    "env.reset()\n",
    "# env.render()"
   ]
  },
  {
   "cell_type": "code",
   "execution_count": 20,
   "metadata": {},
   "outputs": [],
   "source": [
    "# q = np.ones((env.observation_space.n, env.action_space.n))\n",
    "# # Set q(terminal,*) equal to 0\n",
    "# q[5,:] = 0.0\n",
    "# q[7,:] = 0.0\n",
    "# q[11,:] = 0.0\n",
    "# q[12,:] = 0.0\n",
    "# q[15,:] = 0.0\n",
    "performance = np.zeros(episodes//STEPS) # np.ndarray(episodes//10)\n",
    "\n",
    "critic = np.random.uniform(low=0.0, high=0.0000000009, size=(env.observation_space.n, env.action_space.n))\n",
    "# critic = np.random.uniform(low=0.0, high=0.00000009, size=(env.observation_space.n, env.action_space.n))\n",
    "# v = np.random.rand(env.observation_space.n, env.action_space.n)\n",
    "\n",
    "actor = np.zeros((env.observation_space.n, env.action_space.n))\n",
    "# actor = np.random.uniform(low=0.0, high=0.0009, size=(env.observation_space.n, env.action_space.n))\n",
    "\n",
    "rng = np.random.default_rng() # random number generator\n",
    "policy_softmax = SoftmaxPolicy(env, rng)\n",
    "policy_greedy = GreedyPolicy(env)\n",
    "\n",
    "\n"
   ]
  },
  {
   "cell_type": "code",
   "execution_count": 21,
   "metadata": {},
   "outputs": [],
   "source": [
    "for episode in range(episodes):\n",
    "\n",
    "    inew = min(episode,epsilon_annealing_stop)\n",
    "    epsilon = (epsilon_start * (epsilon_annealing_stop - inew) + epsilon_end * inew) / epsilon_annealing_stop\n",
    "    \n",
    "    E_actor = np.zeros((env.observation_space.n, env.action_space.n))\n",
    "    E_critic = np.zeros((env.observation_space.n, env.action_space.n))\n",
    "    \n",
    "    state = env.reset()\n",
    "    action = policy_softmax.action(actor, state, epsilon)\n",
    "    # action = action_epsilon_greedy(actor, state, epsilon)\n",
    "\n",
    "    while True:\n",
    "\n",
    "        (new_state, reward, done, truncated, info) = env.step(action)\n",
    "        \n",
    "        new_action = policy_softmax.action(actor, new_state, epsilon)\n",
    "        # new_action = action_epsilon_greedy(actor, new_state, epsilon)\n",
    "\n",
    "        E_actor[state, action] = 1\n",
    "        \n",
    "        td_error = reward + gamma * critic[new_state, new_action] - critic[state, new_action]\n",
    "\n",
    "        E_critic[state, action] = 1\n",
    "\n",
    "        critic = critic + alpha_critic * td_error * E_critic\n",
    "        E_critic = eligibility_decay * gamma * E_critic\n",
    "\n",
    "        actor = actor + alpha_actor * td_error * E_actor \n",
    "        E_actor = eligibility_decay * gamma * E_actor\n",
    "        \n",
    "        state, action = new_state, new_action\n",
    "\n",
    "        if done or truncated:\n",
    "\n",
    "            # if done:\n",
    "                # print(\"done in {} steps ({})\".format(env._elapsed_steps, episode))\n",
    "\n",
    "            break\n",
    "\n",
    "    # only for plotting the performance, not part of the algorithm \n",
    "    if episode%STEPS == 0:\n",
    "        # performance[episode//100] = average_performance(get_action_epsilon_greedy(epsilon), q=actor)\n",
    "        performance[episode//STEPS] = policy_greedy.average_performance(policy_greedy.action, q=actor)"
   ]
  },
  {
   "cell_type": "code",
   "execution_count": null,
   "metadata": {},
   "outputs": [
    {
     "data": {
      "text/plain": [
       "Text(0, 0.5, 'Average reward of an epoch')"
      ]
     },
     "execution_count": 11,
     "metadata": {},
     "output_type": "execute_result"
    },
    {
     "data": {
      "image/png": "[encoded data removed]",
      "text/plain": [
       "<Figure size 432x288 with 1 Axes>"
      ]
     },
     "metadata": {
      "needs_background": "light"
     },
     "output_type": "display_data"
    }
   ],
   "source": [
    "plt.plot(STEPS*np.arange(episodes//STEPS), performance)\n",
    "plt.xlabel(\"Epochs\")\n",
    "plt.title(\"Learning progress for SARSA\")\n",
    "plt.ylabel(\"Average reward of an epoch\")"
   ]
  },
  {
   "cell_type": "code",
   "execution_count": null,
   "metadata": {},
   "outputs": [
    {
     "name": "stdout",
     "output_type": "stream",
     "text": [
      "Greedy policy SARSA performance = 1.0\n"
     ]
    }
   ],
   "source": [
    "greedyPolicyAvgPerf = policy_greedy.average_performance(policy_greedy.action, q=actor)\n",
    "print(\"Greedy policy SARSA performance =\", greedyPolicyAvgPerf) "
   ]
  },
  {
   "cell_type": "code",
   "execution_count": null,
   "metadata": {},
   "outputs": [
    {
     "name": "stdout",
     "output_type": "stream",
     "text": [
      "(A,S) Value function = (256, 4)\n",
      "First row\n",
      "[[-0.  0.  0. -0.]\n",
      " [-0.  0.  0. -0.]\n",
      " [-0.  0.  0. -0.]\n",
      " [-0.  0.  0. -0.]]\n",
      "Second row\n",
      "[[-0.  0.  0. -0.]\n",
      " [-0.  0.  0. -0.]\n",
      " [-0.  0.  0. -0.]\n",
      " [-0.  0.  0.  0.]]\n",
      "Third row\n",
      "[[-0.  0.  0. -0.]\n",
      " [-0.  0.  0. -0.]\n",
      " [-0.  0.  0.  0.]\n",
      " [-0.  0.  0.  0.]]\n",
      "Fourth row\n",
      "[[-0.  0.  0.  0.]\n",
      " [-0.  0.  0.  0.]\n",
      " [-0.  0.  0.  0.]\n",
      " [-0.  0.  0.  0.]]\n"
     ]
    }
   ],
   "source": [
    "q = actor\n",
    "q = np.round(q,3)\n",
    "print(\"(A,S) Value function =\", q.shape)\n",
    "print(\"First row\")\n",
    "print(q[0:4,:])\n",
    "print(\"Second row\")\n",
    "print(q[4:8,:])\n",
    "print(\"Third row\")\n",
    "print(q[8:12,:])\n",
    "print(\"Fourth row\")\n",
    "print(q[12:16,:])"
   ]
  },
  {
   "cell_type": "code",
   "execution_count": null,
   "metadata": {},
   "outputs": [
    {
     "name": "stdout",
     "output_type": "stream",
     "text": [
      "Greedy policy found:\n",
      "  L     L     L     L  \n",
      "  L     L     L     L  \n",
      "  L     L     L     L  \n",
      "  L     L     L     !  \n",
      " \n",
      "Optimal policy:\n",
      "L/D/R   U     U     U  \n",
      "  L     -    L/R    -  \n",
      "  U     D     L     -  \n",
      "  -     R     D     !  \n"
     ]
    }
   ],
   "source": [
    "policyFound = [actionsDict[np.argmax(q[0,:])],actionsDict[np.argmax(q[1,:])],actionsDict[np.argmax(q[2,:])],actionsDict[np.argmax(q[3,:])],\n",
    "               actionsDict[np.argmax(q[4,:])],actionsDict[np.argmax(q[5,:])],actionsDict[np.argmax(q[6,:])],actionsDict[np.argmax(q[6,:])],\n",
    "               actionsDict[np.argmax(q[8,:])],actionsDict[np.argmax(q[9,:])],actionsDict[np.argmax(q[10,:])],actionsDict[np.argmax(q[11,:])],\n",
    "               actionsDict[np.argmax(q[12,:])],actionsDict[np.argmax(q[13,:])],actionsDict[np.argmax(q[14,:])],\"  !  \"]\n",
    "print(\"Greedy policy found:\")\n",
    "idxs = [0,4,8,12]\n",
    "for idx in idxs:\n",
    "    print(policyFound[idx+0], policyFound[idx+1], \n",
    "          policyFound[idx+2], policyFound[idx+3])\n",
    "\n",
    "print(\" \")\n",
    "\n",
    "print(\"Optimal policy:\")\n",
    "idxs = [0,4,8,12]\n",
    "for idx in idxs:\n",
    "    print(optimalPolicy[idx+0], optimalPolicy[idx+1], \n",
    "          optimalPolicy[idx+2], optimalPolicy[idx+3])\n",
    "\n",
    "env.close()"
   ]
  },
  {
   "cell_type": "code",
   "execution_count": null,
   "metadata": {},
   "outputs": [],
   "source": []
  }
 ],
 "metadata": {
  "kernelspec": {
   "display_name": "Python 3.9.13 ('tensorflow')",
   "language": "python",
   "name": "python3"
  },
  "language_info": {
   "codemirror_mode": {
    "name": "ipython",
    "version": 3
   },
   "file_extension": ".py",
   "mimetype": "text/x-python",
   "name": "python",
   "nbconvert_exporter": "python",
   "pygments_lexer": "ipython3",
   "version": "3.9.13"
  },
  "vscode": {
   "interpreter": {
    "hash": "4bd624a0593993fe43ac4046b27b898fb2ef75c21c08f81e89e64ea0f51df676"
   }
  }
 },
 "nbformat": 4,
 "nbformat_minor": 4
}
