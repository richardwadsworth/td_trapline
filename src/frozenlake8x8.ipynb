{
 "cells": [
  {
   "cell_type": "code",
   "execution_count": 1,
   "metadata": {},
   "outputs": [],
   "source": [
    "import numpy as np\n",
    "from numpy.random import random, choice\n",
    "import matplotlib.pyplot as plt\n",
    "%matplotlib inline\n",
    "\n",
    "import sys\n",
    "sys.path.insert(1, '/Users/richard/Documents/projects/py_learning/sussex/Dissertation/gym')\n",
    "\n",
    "import gym\n",
    "from gym.envs.toy_text.frozen_lake import generate_random_map"
   ]
  },
  {
   "cell_type": "code",
   "execution_count": 2,
   "metadata": {},
   "outputs": [],
   "source": [
    "\n",
    "\n",
    "\n",
    "def getGoalIndices(desc):\n",
    "    \"\"\"\n",
    "    find the indexes of the goals from the environment description\n",
    "    \"\"\"\n",
    "    q_index=0\n",
    "    goal_indices = []\n",
    "    for i in desc:\n",
    "        for j in range(len(i)):\n",
    "            if i[j]==\"G\":\n",
    "                goal_indices.append(q_index)\n",
    "            q_index +=1\n",
    "    \n",
    "    return goal_indices\n",
    "\n",
    "    "
   ]
  },
  {
   "cell_type": "code",
   "execution_count": 3,
   "metadata": {},
   "outputs": [],
   "source": [
    "def getGoalCoordinates(index, observation_space_size):\n",
    "    side = int(np.sqrt(observation_space_size))\n",
    "    x= index%side\n",
    "    y= int(np.floor(index/side))\n",
    "\n",
    "    return x, y\n",
    "    \n",
    "def generate_random_map_extended(goalIndices: list = None, size: int = 8, p: float = 0.8):\n",
    "    \n",
    "    def update_cell(desc, x, y , new_value):\n",
    "        row = desc[y]\n",
    "        row_as_list = [row[i] for i in range(len(row))]\n",
    "        row_as_list[x] = new_value \n",
    "        desc[y] = \"\".join(row_as_list)\n",
    "        return desc\n",
    "\n",
    "\n",
    "    # generate a random map with start at [0,0] and goal at [-1, -1]\n",
    "    desc = generate_random_map(size, p)\n",
    "\n",
    "    if goalIndices != None:\n",
    "\n",
    "        desc = update_cell(desc, size-1, size-1, \"F\") # set the default Goal to frozen\n",
    "        \n",
    "        #overwrite the default goal position if goal indices given\n",
    "        for index in goalIndices:\n",
    "            x, y = getGoalCoordinates(index, np.square(size))\n",
    "            desc = update_cell(desc, x, y, \"G\") # set the cell to be a goal\n",
    "            \n",
    "            \n",
    "\n",
    "    return desc\n"
   ]
  },
  {
   "cell_type": "code",
   "execution_count": 4,
   "metadata": {},
   "outputs": [],
   "source": [
    "\n",
    "\n",
    "# desc = [\n",
    "#     \"SFFFFFFF\",\n",
    "#     \"FFFFFFFF\",\n",
    "#     \"FFFHFFFG\",\n",
    "#     \"FFFFFHFF\",\n",
    "#     \"FFFHFFFF\",\n",
    "#     \"FHHGFFHF\",\n",
    "#     \"FHFFHFHF\",\n",
    "#     \"FFFHFFFF\",\n",
    "# ]\n",
    "\n",
    "desc = generate_random_map_extended([299], size=19, p=0.9)\n",
    "\n",
    "\n",
    "goalIndices = getGoalIndices(desc)\n",
    "\n",
    "\n",
    "env = gym.make('FrozenLake-v1', is_slippery=False, map_name=\"8x8\", desc=desc)"
   ]
  },
  {
   "cell_type": "code",
   "execution_count": 5,
   "metadata": {},
   "outputs": [
    {
     "name": "stdout",
     "output_type": "stream",
     "text": [
      "Action space =  Discrete(4)\n",
      "Observation space =  Discrete(361)\n"
     ]
    }
   ],
   "source": [
    "print(\"Action space = \", env.action_space)\n",
    "print(\"Observation space = \", env.observation_space)"
   ]
  },
  {
   "cell_type": "code",
   "execution_count": 6,
   "metadata": {},
   "outputs": [],
   "source": [
    "actionsDict = {}\n",
    "actionsDict[0] = \" L \"\n",
    "actionsDict[1] = \" D \"\n",
    "actionsDict[2] = \" R \"\n",
    "actionsDict[3] = \" U \"\n",
    "\n",
    "actionsDictInv = {}\n",
    "actionsDictInv[\"L\"] = 0\n",
    "actionsDictInv[\"D\"] = 1\n",
    "actionsDictInv[\"R\"] = 2\n",
    "actionsDictInv[\"U\"] = 3"
   ]
  },
  {
   "cell_type": "code",
   "execution_count": 7,
   "metadata": {},
   "outputs": [],
   "source": [
    "env.reset()\n",
    "env.render()"
   ]
  },
  {
   "cell_type": "code",
   "execution_count": 8,
   "metadata": {},
   "outputs": [],
   "source": [
    "# optimalPolicy = [\"R/D\",\" R \",\" D \",\" L \",\n",
    "#                  \" D \",\" - \",\" D \",\" - \",\n",
    "#                  \" R \",\"R/D\",\" D \",\" - \",\n",
    "#                  \" - \",\" R \",\" R \",\" ! \",]\n",
    "    \n",
    "# print(\"Optimal policy:\")\n",
    "# idxs = [0,4,8,12]\n",
    "# for idx in idxs:\n",
    "#     print(optimalPolicy[idx+0], optimalPolicy[idx+1], \n",
    "#           optimalPolicy[idx+2], optimalPolicy[idx+3])"
   ]
  },
  {
   "cell_type": "code",
   "execution_count": 9,
   "metadata": {},
   "outputs": [],
   "source": [
    "def action_epsilon_greedy(q, s, epsilon=0.05):\n",
    "    if np.random.rand() > epsilon:\n",
    "        return np.argmax(q[s])\n",
    "    return np.random.randint(4)\n",
    "\n",
    "def get_action_epsilon_greedy(epsilon):\n",
    "    return lambda q,s: action_epsilon_greedy(q, s, epsilon=epsilon)"
   ]
  },
  {
   "cell_type": "code",
   "execution_count": 10,
   "metadata": {},
   "outputs": [],
   "source": [
    "def greedy_policy(q, s):\n",
    "    return np.argmax(q[s])"
   ]
  },
  {
   "cell_type": "code",
   "execution_count": 11,
   "metadata": {},
   "outputs": [],
   "source": [
    "def average_performance(policy_fct, q):\n",
    "    acc_returns = 0.\n",
    "    n = 500\n",
    "    for i in range(n):\n",
    "        done = False\n",
    "        s = env.reset()\n",
    "        while not done:\n",
    "            a = policy_fct(q, s)\n",
    "            s, reward, done, info = env.step(a)\n",
    "            acc_returns += reward\n",
    "    return acc_returns/n"
   ]
  },
  {
   "cell_type": "code",
   "execution_count": 12,
   "metadata": {},
   "outputs": [],
   "source": [
    "# parameters for sarsa(lambda)\n",
    "episodes = 30000\n",
    "STEPS = 500\n",
    "gamma = 0.9\n",
    "alpha = 0.05\n",
    "epsilon_start = 0.2\n",
    "epsilon_end = 0.001\n",
    "epsilon_annealing_stop = int(episodes/2)\n",
    "eligibility_decay = 0.3"
   ]
  },
  {
   "cell_type": "code",
   "execution_count": 13,
   "metadata": {},
   "outputs": [],
   "source": [
    "\n",
    "q = np.ones((env.observation_space.n, env.action_space.n))\n",
    "# Set q(terminal,*) equal to 0\n",
    "\n",
    "q_index=0\n",
    "for i in desc:\n",
    "    for j in range(len(i)):\n",
    "        if i[j] ==\"H\" or i[j]==\"G\":\n",
    "            q[q_index,:] = 0.0\n",
    "        q_index +=1\n",
    "\n",
    "performance = np.ndarray(episodes//STEPS)"
   ]
  },
  {
   "cell_type": "code",
   "execution_count": 14,
   "metadata": {},
   "outputs": [],
   "source": [
    "def resolveActionState(actionState):\n",
    "\n",
    "    index = np.argmax(actionState)\n",
    "\n",
    "    if index == 0: #left\n",
    "        vertical = 0\n",
    "        horizontal = actionState[index] *-1\n",
    "    elif index == 1: #down\n",
    "        vertical = actionState[index] *-1\n",
    "        horizontal = 0\n",
    "    elif index == 2: #right\n",
    "        vertical = 0\n",
    "        horizontal = actionState[index]\n",
    "    elif index == 3: #up\n",
    "        vertical = actionState[index]\n",
    "        horizontal = 0\n",
    "        \n",
    "    return horizontal, vertical\n",
    "    "
   ]
  },
  {
   "cell_type": "code",
   "execution_count": 15,
   "metadata": {},
   "outputs": [],
   "source": [
    "from IPython.display import display, clear_output\n",
    "\n",
    "\n",
    "def plotActionStateQuiver():\n",
    "\n",
    "    dim=int(np.sqrt(env.observation_space.n))    \n",
    "    fig1, ax1 = plt.subplots(figsize=(10,10))\n",
    "    \n",
    "    policyFound = [resolveActionState(q[x,:]) for x in range(env.observation_space.n)]\n",
    "    \n",
    "    \n",
    "    i = np.arange(0,dim) #rows\n",
    "    j = np.arange(0,dim) #colums\n",
    "\n",
    "    ii, jj = np.meshgrid(i,j)#, indexing='ij')\n",
    "\n",
    "    # print(\"row indices:\\n{}\\n\".format(ii))\n",
    "    # print(\"column indices:\\n{}\".format(jj))\n",
    "\n",
    "    U = np.reshape([i[0] for i in policyFound], (dim, dim))\n",
    "    V = np.reshape([i[1] for i in policyFound], (dim, dim))\n",
    "\n",
    "    ax1.cla()\n",
    "\n",
    "    ax1.scatter([0],[0], c='g', s=500, marker='^') #origin\n",
    "\n",
    "    for index in goalIndices:\n",
    "        x, y = getGoalCoordinates(index, env.observation_space.n)\n",
    "        ax1.scatter([x],[y], c='r', s=500, marker='o') #goal\n",
    "        \n",
    "    QP = ax1.quiver(ii,jj, U, V)\n",
    "    plt.gca().invert_yaxis()\n",
    "    # \n",
    "    # ax.set_aspect('equal')\n",
    "    # plt.grid()\n",
    "    # plt.show()\n",
    "    # drawing updated values\n",
    "\n",
    "    display(fig1)    \n",
    "    clear_output(wait = True)\n",
    "    # ax.clear()\n",
    "    plt.pause(0.1)\n",
    "    "
   ]
  },
  {
   "cell_type": "code",
   "execution_count": 16,
   "metadata": {},
   "outputs": [],
   "source": [
    "\n",
    "for episode in range(episodes):\n",
    "\n",
    "    inew = min(episode,epsilon_annealing_stop)\n",
    "    epsilon = (epsilon_start * (epsilon_annealing_stop - inew) + epsilon_end * inew) / epsilon_annealing_stop\n",
    "    \n",
    "    E = np.zeros((env.observation_space.n, env.action_space.n))\n",
    "    \n",
    "    state = env.reset()\n",
    "    action = action_epsilon_greedy(q, state, epsilon)\n",
    "\n",
    "    while True:\n",
    "\n",
    "        E = eligibility_decay * gamma * E\n",
    "        E[state, action] += 1\n",
    "        \n",
    "        new_state, reward, done, info = env.step(action)\n",
    "        \n",
    "        new_action = action_epsilon_greedy(q, new_state, epsilon)\n",
    "\n",
    "        delta = reward + gamma * q[new_state, new_action] - q[state, action]\n",
    "        q = q + alpha * delta * E \n",
    "\n",
    "        state, action = new_state, new_action\n",
    "\n",
    "        if done:\n",
    "            break\n",
    "\n",
    "    # only for plotting the performance, not part of the algorithm \n",
    "    if episode%STEPS == 0:\n",
    "        performance[episode//STEPS] = average_performance(get_action_epsilon_greedy(epsilon), q=q)"
   ]
  },
  {
   "cell_type": "code",
   "execution_count": 17,
   "metadata": {},
   "outputs": [
    {
     "data": {
      "image/png": "[encoded data removed]",
      "text/plain": [
       "<Figure size 720x720 with 1 Axes>"
      ]
     },
     "metadata": {
      "needs_background": "light"
     },
     "output_type": "display_data"
    }
   ],
   "source": [
    "plotActionStateQuiver()"
   ]
  },
  {
   "cell_type": "code",
   "execution_count": 18,
   "metadata": {},
   "outputs": [
    {
     "data": {
      "text/plain": [
       "Text(0, 0.5, 'Average reward of an epoch')"
      ]
     },
     "execution_count": 18,
     "metadata": {},
     "output_type": "execute_result"
    },
    {
     "data": {
      "image/png": "[encoded data removed]",
      "text/plain": [
       "<Figure size 432x288 with 1 Axes>"
      ]
     },
     "metadata": {
      "needs_background": "light"
     },
     "output_type": "display_data"
    }
   ],
   "source": [
    "plt.plot(STEPS*np.arange(episodes//STEPS), performance)\n",
    "plt.xlabel(\"Epochs\")\n",
    "plt.title(\"Learning progress for SARSA\")\n",
    "plt.ylabel(\"Average reward of an epoch\")"
   ]
  },
  {
   "cell_type": "code",
   "execution_count": 19,
   "metadata": {},
   "outputs": [
    {
     "name": "stdout",
     "output_type": "stream",
     "text": [
      "Greedy policy SARSA performance = 1.0\n"
     ]
    }
   ],
   "source": [
    "greedyPolicyAvgPerf = average_performance(greedy_policy, q=q)\n",
    "print(\"Greedy policy SARSA performance =\", greedyPolicyAvgPerf) "
   ]
  },
  {
   "cell_type": "code",
   "execution_count": 20,
   "metadata": {},
   "outputs": [
    {
     "name": "stdout",
     "output_type": "stream",
     "text": [
      "(A,S) Value function = (361, 4)\n",
      "First row\n",
      "[[0.043 0.    0.052 0.042]\n",
      " [0.043 0.05  0.058 0.048]\n",
      " [0.048 0.057 0.064 0.053]\n",
      " [0.054 0.066 0.072 0.06 ]\n",
      " [0.059 0.08  0.07  0.066]\n",
      " [0.067 0.077 0.081 0.072]\n",
      " [0.078 0.094 0.085 0.082]\n",
      " [0.089 0.093 0.091 0.091]]\n",
      "Second row\n",
      "[[0.103 0.029 0.108 0.104]\n",
      " [0.117 0.119 0.12  0.118]\n",
      " [0.13  0.134 0.131 0.131]\n",
      " [0.144 0.099 0.144 0.144]\n",
      " [0.156 0.159 0.159 0.157]\n",
      " [0.177 0.166 0.177 0.177]\n",
      " [0.196 0.196 0.196 0.194]\n",
      " [0.214 0.214 0.204 0.213]]\n",
      "Third row\n",
      "[[0.    0.    0.    0.   ]\n",
      " [0.238 0.273 0.272 0.272]\n",
      " [0.272 0.271 0.268 0.272]\n",
      " [0.    0.    0.    0.   ]\n",
      " [0.    0.055 0.057 0.052]\n",
      " [0.061 0.017 0.065 0.06 ]\n",
      " [0.061 0.067 0.077 0.063]\n",
      " [0.066 0.08  0.088 0.066]]\n",
      "Fourth row\n",
      "[[0.074 0.09  0.098 0.071]\n",
      " [0.083 0.109 0.094 0.079]\n",
      " [0.101 0.106 0.054 0.097]\n",
      " [0.    0.    0.    0.   ]\n",
      " [0.081 0.136 0.132 0.133]\n",
      " [0.148 0.151 0.063 0.147]\n",
      " [0.    0.    0.    0.   ]\n",
      " [0.175 0.175 0.184 0.182]]\n",
      "Fith row\n",
      "[[0.    0.    0.    0.   ]\n",
      " [0.215 0.215 0.216 0.215]\n",
      " [0.233 0.233 0.234 0.233]\n",
      " [0.253 0.253 0.253 0.226]\n",
      " [0.267 0.269 0.269 0.269]\n",
      " [0.273 0.272 0.271 0.272]\n",
      " [0.071 0.072 0.071 0.048]\n",
      " [0.065 0.065 0.001 0.063]]\n",
      "Six row\n",
      "[[0.    0.    0.    0.   ]\n",
      " [0.021 0.077 0.078 0.077]\n",
      " [0.084 0.034 0.091 0.084]\n",
      " [0.082 0.093 0.107 0.083]\n",
      " [0.091 0.121 0.107 0.091]\n",
      " [0.11  0.108 0.121 0.107]\n",
      " [0.128 0.051 0.136 0.048]\n",
      " [0.135 0.148 0.152 0.14 ]]\n",
      "Seventh row\n",
      "[[0.159 0.169 0.167 0.153]\n",
      " [0.185 0.188 0.175 0.166]\n",
      " [0.    0.    0.    0.   ]\n",
      " [0.277 0.289 0.277 0.277]\n",
      " [0.    0.    0.    0.   ]\n",
      " [0.25  0.258 0.257 0.256]\n",
      " [0.265 0.264 0.266 0.266]\n",
      " [0.281 0.28  0.281 0.28 ]]\n",
      "Eighth row\n",
      "[[0.279 0.277 0.28  0.28 ]\n",
      " [0.077 0.077 0.077 0.078]\n",
      " [0.072 0.073 0.073 0.07 ]\n",
      " [0.08  0.081 0.08  0.048]\n",
      " [0.089 0.09  0.028 0.09 ]\n",
      " [0.    0.    0.    0.   ]\n",
      " [0.031 0.109 0.114 0.107]\n",
      " [0.101 0.135 0.12  0.101]]\n"
     ]
    }
   ],
   "source": [
    "q = np.round(q,3)\n",
    "print(\"(A,S) Value function =\", q.shape)\n",
    "print(\"First row\")\n",
    "print(q[0:8,:])\n",
    "print(\"Second row\")\n",
    "print(q[8:16,:])\n",
    "print(\"Third row\")\n",
    "print(q[16:24,:])\n",
    "print(\"Fourth row\")\n",
    "print(q[24:32,:])\n",
    "print(\"Fith row\")\n",
    "print(q[32:40,:])\n",
    "print(\"Six row\")\n",
    "print(q[40:48,:])\n",
    "print(\"Seventh row\")\n",
    "print(q[48:56,:])\n",
    "print(\"Eighth row\")\n",
    "print(q[56:64,:])"
   ]
  },
  {
   "cell_type": "code",
   "execution_count": 21,
   "metadata": {},
   "outputs": [],
   "source": [
    "def resolveActionDict(x, actionState):\n",
    "    if x in goalIndices:\n",
    "        return \" ! \"\n",
    "    elif all(v == 0 for v in actionState):\n",
    "        return \" - \"\n",
    "    else:\n",
    "        return actionsDict[np.argmax(actionState)]\n",
    "    "
   ]
  },
  {
   "cell_type": "code",
   "execution_count": 22,
   "metadata": {},
   "outputs": [
    {
     "name": "stdout",
     "output_type": "stream",
     "text": [
      "Greedy policy found:\n",
      " R , R , R , R , D , R , D , D , R , R , D , L , D , L , L , L , - , D , L \n",
      " - , R , R , R , R , R , D , D , - , D , D , - , R , - , R , R , L , D , L \n",
      " D , L , - , R , R , R , D , R , R , R , D , D , - , D , - , D , R , L , R \n",
      " U , D , D , D , - , R , D , D , - , D , R , D , D , D , D , L , - , D , - \n",
      " L , L , R , R , L , R , D , D , D , L , R , R , R , D , D , D , D , D , L \n",
      " D , - , D , L , - , D , D , D , R , R , D , R , R , D , D , D , D , R , L \n",
      " L , D , D , D , D , D , D , D , - , D , R , R , R , D , D , R , L , D , D \n",
      " D , L , D , D , L , D , R , D , D , R , R , R , R , D , D , L , D , U , D \n",
      " L , D , L , D , D , D , D , R , R , D , R , R , R , D , D , L , L , L , U \n",
      " L , D , D , L , R , R , R , R , R , D , D , - , R , R , D , D , L , D , L \n",
      " R , D , L , D , R , L , R , D , D , D , R , D , R , R , D , D , L , D , U \n",
      " - , D , L , R , R , R , D , R , R , R , D , D , - , D , D , D , - , D , - \n",
      " L , L , - , D , D , - , R , D , R , R , R , D , R , R , D , D , R , L , D \n",
      " D , D , R , D , R , R , R , R , R , R , R , R , D , D , D , D , D , L , L \n",
      " D , L , - , D , D , - , D , U , U , U , - , R , R , R , D , D , D , - , R \n",
      " D , L , D , R , L , D , R , R , L , L , R , - , R , R , ! , L , L , R , D \n",
      " L , R , D , L , R , U , U , L , L , L , - , R , U , U , - , - , D , D , D \n",
      " R , R , L , R , D , - , R , R , R , R , R , R , R , U , L , L , L , U , L \n",
      " L , U , - , R , L , R , L , R , R , R , U , D , U , - , R , U , - , R , D \n",
      " \n"
     ]
    }
   ],
   "source": [
    "\n",
    "policyFound = [resolveActionDict(x, q[x,:]) for x in range(env.observation_space.n)]\n",
    "\n",
    "print(\"Greedy policy found:\")\n",
    "idxs = np.arange(0, env.observation_space.n, int(np.sqrt(env.observation_space.n)))\n",
    "for idx in idxs:\n",
    "    row = []\n",
    "    for i in range(int(np.sqrt(env.observation_space.n))):\n",
    "        row.append(policyFound[idx+i])\n",
    "    print(','. join(row))\n",
    "        \n",
    "print(\" \")\n",
    "\n",
    "# print(\"Optimal policy:\")\n",
    "# idxs = [0,4,8,12]\n",
    "# for idx in idxs:\n",
    "#     print(optimalPolicy[idx+0], optimalPolicy[idx+1], \n",
    "#           optimalPolicy[idx+2], optimalPolicy[idx+3])"
   ]
  }
 ],
 "metadata": {
  "kernelspec": {
   "display_name": "Python 3.9.13 ('ml')",
   "language": "python",
   "name": "python3"
  },
  "language_info": {
   "codemirror_mode": {
    "name": "ipython",
    "version": 3
   },
   "file_extension": ".py",
   "mimetype": "text/x-python",
   "name": "python",
   "nbconvert_exporter": "python",
   "pygments_lexer": "ipython3",
   "version": "3.9.13"
  },
  "vscode": {
   "interpreter": {
    "hash": "204af188632125c60ad6342f1c37def9669d72c7a6f438c5864d7a4f5b0d95d0"
   }
  }
 },
 "nbformat": 4,
 "nbformat_minor": 4
}
