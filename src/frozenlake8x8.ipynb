{
 "cells": [
  {
   "cell_type": "code",
   "execution_count": 1,
   "metadata": {},
   "outputs": [],
   "source": [
    "import numpy as np\n",
    "from numpy.random import random, choice\n",
    "import matplotlib.pyplot as plt\n",
    "%matplotlib inline\n",
    "\n",
    "import sys\n",
    "sys.path.insert(1, '/Users/richard/Documents/projects/py_learning/sussex/Dissertation/gym')\n",
    "\n",
    "import gym"
   ]
  },
  {
   "cell_type": "code",
   "execution_count": 2,
   "metadata": {},
   "outputs": [],
   "source": [
    "desc = [\n",
    "    \"SFFFFFFF\",\n",
    "    \"FFFFFFFF\",\n",
    "    \"FFFHFFFF\",\n",
    "    \"FFFFFHFF\",\n",
    "    \"FFFHFFFF\",\n",
    "    \"FHHFFFHF\",\n",
    "    \"FHFFHFHF\",\n",
    "    \"FFFHFFFG\",\n",
    "]\n",
    "\n",
    "env = gym.make('FrozenLake-v1', is_slippery=False, map_name=\"8x8\", desc=desc)"
   ]
  },
  {
   "cell_type": "code",
   "execution_count": 3,
   "metadata": {},
   "outputs": [
    {
     "name": "stdout",
     "output_type": "stream",
     "text": [
      "Action space =  Discrete(4)\n",
      "Observation space =  Discrete(64)\n"
     ]
    }
   ],
   "source": [
    "print(\"Action space = \", env.action_space)\n",
    "print(\"Observation space = \", env.observation_space)"
   ]
  },
  {
   "cell_type": "code",
   "execution_count": 4,
   "metadata": {},
   "outputs": [],
   "source": [
    "actionsDict = {}\n",
    "actionsDict[0] = \" L \"\n",
    "actionsDict[1] = \" D \"\n",
    "actionsDict[2] = \" R \"\n",
    "actionsDict[3] = \" U \"\n",
    "\n",
    "actionsDictInv = {}\n",
    "actionsDictInv[\"L\"] = 0\n",
    "actionsDictInv[\"D\"] = 1\n",
    "actionsDictInv[\"R\"] = 2\n",
    "actionsDictInv[\"U\"] = 3"
   ]
  },
  {
   "cell_type": "code",
   "execution_count": 5,
   "metadata": {},
   "outputs": [
    {
     "data": {
      "text/plain": [
       "0"
      ]
     },
     "execution_count": 5,
     "metadata": {},
     "output_type": "execute_result"
    }
   ],
   "source": [
    "env.reset()\n",
    "# env.render()"
   ]
  },
  {
   "cell_type": "code",
   "execution_count": 6,
   "metadata": {},
   "outputs": [],
   "source": [
    "# optimalPolicy = [\"R/D\",\" R \",\" D \",\" L \",\n",
    "#                  \" D \",\" - \",\" D \",\" - \",\n",
    "#                  \" R \",\"R/D\",\" D \",\" - \",\n",
    "#                  \" - \",\" R \",\" R \",\" ! \",]\n",
    "    \n",
    "# print(\"Optimal policy:\")\n",
    "# idxs = [0,4,8,12]\n",
    "# for idx in idxs:\n",
    "#     print(optimalPolicy[idx+0], optimalPolicy[idx+1], \n",
    "#           optimalPolicy[idx+2], optimalPolicy[idx+3])"
   ]
  },
  {
   "cell_type": "code",
   "execution_count": 7,
   "metadata": {},
   "outputs": [],
   "source": [
    "def action_epsilon_greedy(q, s, epsilon=0.05):\n",
    "    if np.random.rand() > epsilon:\n",
    "        return np.argmax(q[s])\n",
    "    return np.random.randint(4)\n",
    "\n",
    "def get_action_epsilon_greedy(epsilon):\n",
    "    return lambda q,s: action_epsilon_greedy(q, s, epsilon=epsilon)"
   ]
  },
  {
   "cell_type": "code",
   "execution_count": 8,
   "metadata": {},
   "outputs": [],
   "source": [
    "def greedy_policy(q, s):\n",
    "    return np.argmax(q[s])"
   ]
  },
  {
   "cell_type": "code",
   "execution_count": 9,
   "metadata": {},
   "outputs": [],
   "source": [
    "def average_performance(policy_fct, q):\n",
    "    acc_returns = 0.\n",
    "    n = 500\n",
    "    for i in range(n):\n",
    "        done = False\n",
    "        s = env.reset()\n",
    "        while not done:\n",
    "            a = policy_fct(q, s)\n",
    "            s, reward, done, info = env.step(a)\n",
    "            acc_returns += reward\n",
    "    return acc_returns/n"
   ]
  },
  {
   "cell_type": "code",
   "execution_count": 10,
   "metadata": {},
   "outputs": [],
   "source": [
    "# parameters for sarsa(lambda)\n",
    "episodes = 30000\n",
    "STEPS = 500\n",
    "gamma = 0.9\n",
    "alpha = 0.05\n",
    "epsilon_start = 0.2\n",
    "epsilon_end = 0.001\n",
    "epsilon_annealing_stop = int(episodes/2)\n",
    "eligibility_decay = 0.3"
   ]
  },
  {
   "cell_type": "code",
   "execution_count": 11,
   "metadata": {},
   "outputs": [],
   "source": [
    "q = np.ones((env.observation_space.n, env.action_space.n))\n",
    "# Set q(terminal,*) equal to 0\n",
    "q[19,:] = 0.0\n",
    "q[29,:] = 0.0\n",
    "q[35,:] = 0.0\n",
    "q[41,:] = 0.0\n",
    "q[42,:] = 0.0\n",
    "q[46,:] = 0.0\n",
    "q[49,:] = 0.0\n",
    "q[52,:] = 0.0\n",
    "q[54,:] = 0.0\n",
    "q[59,:] = 0.0\n",
    "q[63,:] = 0.0\n",
    "performance = np.ndarray(episodes//STEPS)"
   ]
  },
  {
   "cell_type": "code",
   "execution_count": 12,
   "metadata": {},
   "outputs": [],
   "source": [
    "def resolveActionState(actionState):\n",
    "\n",
    "    index = np.argmax(actionState)\n",
    "\n",
    "    if index == 0: #left\n",
    "        vertical = 0\n",
    "        horizontal = actionState[index] *-1\n",
    "    elif index == 1: #down\n",
    "        vertical = actionState[index] *-1\n",
    "        horizontal = 0\n",
    "    elif index == 2: #right\n",
    "        vertical = 0\n",
    "        horizontal = actionState[index]\n",
    "    elif index == 3: #up\n",
    "        vertical = actionState[index]\n",
    "        horizontal = 0\n",
    "        \n",
    "    return horizontal, vertical\n",
    "    "
   ]
  },
  {
   "cell_type": "code",
   "execution_count": 13,
   "metadata": {},
   "outputs": [],
   "source": [
    "from IPython.display import display, clear_output\n",
    "import time \n",
    "\n",
    "def plotActionStateQuiver():\n",
    "\n",
    "    dim=int(np.sqrt(env.observation_space.n))    \n",
    "    fig1, ax1 = plt.subplots(figsize=(5,5))\n",
    "    \n",
    "    policyFound = [resolveActionState(q[x,:]) for x in range(env.observation_space.n)]\n",
    "    \n",
    "    \n",
    "    i = np.arange(0,dim) #rows\n",
    "    j = np.arange(0,dim) #colums\n",
    "\n",
    "    ii, jj = np.meshgrid(i,j)#, indexing='ij')\n",
    "\n",
    "    # print(\"row indices:\\n{}\\n\".format(ii))\n",
    "    # print(\"column indices:\\n{}\".format(jj))\n",
    "\n",
    "    U = np.reshape([i[0] for i in policyFound], (dim, dim))\n",
    "    V = np.reshape([i[1] for i in policyFound], (dim, dim))\n",
    "\n",
    "    ax1.cla()\n",
    "\n",
    "    ax1.scatter([0],[0], c='g', s=500, marker='^')\n",
    "    ax1.scatter([dim-1],[dim-1], c='r', s=500, marker='o')\n",
    "    QP = ax1.quiver(ii,jj, U, V)\n",
    "    plt.gca().invert_yaxis()\n",
    "    # \n",
    "    # ax.set_aspect('equal')\n",
    "    # plt.grid()\n",
    "    # plt.show()\n",
    "    # drawing updated values\n",
    "\n",
    "    display(fig1)    \n",
    "    clear_output(wait = True)\n",
    "    # ax.clear()\n",
    "    plt.pause(0.1)\n",
    "    "
   ]
  },
  {
   "cell_type": "code",
   "execution_count": 14,
   "metadata": {},
   "outputs": [],
   "source": [
    "\n",
    "for episode in range(episodes):\n",
    "\n",
    "    inew = min(episode,epsilon_annealing_stop)\n",
    "    epsilon = (epsilon_start * (epsilon_annealing_stop - inew) + epsilon_end * inew) / epsilon_annealing_stop\n",
    "    \n",
    "    E = np.zeros((env.observation_space.n, env.action_space.n))\n",
    "    \n",
    "    state = env.reset()\n",
    "    action = action_epsilon_greedy(q, state, epsilon)\n",
    "\n",
    "    while True:\n",
    "\n",
    "        E = eligibility_decay * gamma * E\n",
    "        E[state, action] += 1\n",
    "        \n",
    "        new_state, reward, done, info = env.step(action)\n",
    "        \n",
    "        new_action = action_epsilon_greedy(q, new_state, epsilon)\n",
    "\n",
    "        delta = reward + gamma * q[new_state, new_action] - q[state, action]\n",
    "        q = q + alpha * delta * E \n",
    "\n",
    "        state, action = new_state, new_action\n",
    "\n",
    "        if done:\n",
    "            break\n",
    "\n",
    "    # only for plotting the performance, not part of the algorithm \n",
    "    if episode%STEPS == 0:\n",
    "        performance[episode//STEPS] = average_performance(get_action_epsilon_greedy(epsilon), q=q)"
   ]
  },
  {
   "cell_type": "code",
   "execution_count": 15,
   "metadata": {},
   "outputs": [
    {
     "data": {
      "image/png": "[encoded data removed]",
      "text/plain": [
       "<Figure size 360x360 with 1 Axes>"
      ]
     },
     "metadata": {
      "needs_background": "light"
     },
     "output_type": "display_data"
    }
   ],
   "source": [
    "plotActionStateQuiver()"
   ]
  },
  {
   "cell_type": "code",
   "execution_count": 16,
   "metadata": {},
   "outputs": [
    {
     "data": {
      "text/plain": [
       "Text(0, 0.5, 'Average reward of an epoch')"
      ]
     },
     "execution_count": 16,
     "metadata": {},
     "output_type": "execute_result"
    },
    {
     "data": {
      "image/png": "[encoded data removed]",
      "text/plain": [
       "<Figure size 432x288 with 1 Axes>"
      ]
     },
     "metadata": {
      "needs_background": "light"
     },
     "output_type": "display_data"
    }
   ],
   "source": [
    "plt.plot(STEPS*np.arange(episodes//STEPS), performance)\n",
    "plt.xlabel(\"Epochs\")\n",
    "plt.title(\"Learning progress for SARSA\")\n",
    "plt.ylabel(\"Average reward of an epoch\")"
   ]
  },
  {
   "cell_type": "code",
   "execution_count": 17,
   "metadata": {},
   "outputs": [
    {
     "name": "stdout",
     "output_type": "stream",
     "text": [
      "Greedy policy SARSA performance = 1.0\n"
     ]
    }
   ],
   "source": [
    "greedyPolicyAvgPerf = average_performance(greedy_policy, q=q)\n",
    "print(\"Greedy policy SARSA performance =\", greedyPolicyAvgPerf) "
   ]
  },
  {
   "cell_type": "code",
   "execution_count": 18,
   "metadata": {},
   "outputs": [
    {
     "name": "stdout",
     "output_type": "stream",
     "text": [
      "(A,S) Value function = (64, 4)\n",
      "First row\n",
      "[[0.215 0.215 0.254 0.213]\n",
      " [0.215 0.245 0.282 0.236]\n",
      " [0.237 0.275 0.314 0.268]\n",
      " [0.263 0.309 0.349 0.289]\n",
      " [0.294 0.358 0.387 0.328]\n",
      " [0.327 0.405 0.43  0.361]\n",
      " [0.361 0.453 0.478 0.404]\n",
      " [0.401 0.531 0.456 0.46 ]]\n",
      "Second row\n",
      "[[0.194 0.196 0.247 0.189]\n",
      " [0.198 0.215 0.288 0.211]\n",
      " [0.22  0.24  0.33  0.232]\n",
      " [0.248 0.01  0.375 0.267]\n",
      " [0.268 0.322 0.421 0.29 ]\n",
      " [0.327 0.414 0.472 0.327]\n",
      " [0.374 0.528 0.465 0.378]\n",
      " [0.457 0.59  0.513 0.452]]\n",
      "Third row\n",
      "[[0.215 0.218 0.218 0.214]\n",
      " [0.233 0.24  0.235 0.233]\n",
      " [0.255 0.278 0.142 0.26 ]\n",
      " [0.    0.    0.    0.   ]\n",
      " [0.184 0.387 0.347 0.342]\n",
      " [0.367 0.129 0.482 0.391]\n",
      " [0.414 0.519 0.589 0.418]\n",
      " [0.513 0.656 0.562 0.509]]\n",
      "Fourth row\n",
      "[[0.238 0.239 0.242 0.239]\n",
      " [0.253 0.258 0.278 0.258]\n",
      " [0.265 0.275 0.34  0.272]\n",
      " [0.318 0.135 0.395 0.135]\n",
      " [0.365 0.457 0.099 0.363]\n",
      " [0.    0.    0.    0.   ]\n",
      " [0.051 0.562 0.635 0.467]\n",
      " [0.564 0.729 0.636 0.566]]\n",
      "Fith row\n",
      "[[0.26  0.259 0.26  0.258]\n",
      " [0.267 0.204 0.269 0.269]\n",
      " [0.279 0.277 0.277 0.283]\n",
      " [0.    0.    0.    0.   ]\n",
      " [0.142 0.478 0.53  0.423]\n",
      " [0.494 0.609 0.53  0.215]\n",
      " [0.549 0.184 0.703 0.54 ]\n",
      " [0.622 0.81  0.702 0.623]]\n",
      "Six row\n",
      "[[0.282 0.279 0.264 0.282]\n",
      " [0.    0.    0.    0.   ]\n",
      " [0.    0.    0.    0.   ]\n",
      " [0.488 0.512 0.522 0.488]\n",
      " [0.518 0.264 0.577 0.495]\n",
      " [0.535 0.691 0.194 0.578]\n",
      " [0.    0.    0.    0.   ]\n",
      " [0.    0.9   0.79  0.706]]\n",
      "Seventh row\n",
      "[[0.308 0.309 0.264 0.308]\n",
      " [0.    0.    0.    0.   ]\n",
      " [0.418 0.435 0.44  0.418]\n",
      " [0.479 0.463 0.463 0.481]\n",
      " [0.    0.    0.    0.   ]\n",
      " [0.358 0.77  0.238 0.632]\n",
      " [0.    0.    0.    0.   ]\n",
      " [0.    1.    0.897 0.762]]\n",
      "Eighth row\n",
      "[[0.326 0.326 0.329 0.329]\n",
      " [0.357 0.358 0.357 0.264]\n",
      " [0.403 0.405 0.324 0.397]\n",
      " [0.    0.    0.    0.   ]\n",
      " [0.735 0.83  0.829 0.774]\n",
      " [0.763 0.784 0.884 0.7  ]\n",
      " [0.88  0.913 1.    0.44 ]\n",
      " [0.    0.    0.    0.   ]]\n"
     ]
    }
   ],
   "source": [
    "q = np.round(q,3)\n",
    "print(\"(A,S) Value function =\", q.shape)\n",
    "print(\"First row\")\n",
    "print(q[0:8,:])\n",
    "print(\"Second row\")\n",
    "print(q[8:16,:])\n",
    "print(\"Third row\")\n",
    "print(q[16:24,:])\n",
    "print(\"Fourth row\")\n",
    "print(q[24:32,:])\n",
    "print(\"Fith row\")\n",
    "print(q[32:40,:])\n",
    "print(\"Six row\")\n",
    "print(q[40:48,:])\n",
    "print(\"Seventh row\")\n",
    "print(q[48:56,:])\n",
    "print(\"Eighth row\")\n",
    "print(q[56:64,:])"
   ]
  },
  {
   "cell_type": "code",
   "execution_count": 19,
   "metadata": {},
   "outputs": [],
   "source": [
    "def resolveActionDict(x, actionState):\n",
    "    if x == env.observation_space.n-1:\n",
    "        return \" ! \"\n",
    "    elif all(v == 0 for v in actionState):\n",
    "        return \" - \"\n",
    "    else:\n",
    "        return actionsDict[np.argmax(actionState)]\n",
    "    "
   ]
  },
  {
   "cell_type": "code",
   "execution_count": 20,
   "metadata": {},
   "outputs": [
    {
     "name": "stdout",
     "output_type": "stream",
     "text": [
      "Greedy policy found:\n",
      " R   R   R   R   R   R   R   D \n",
      " R   R   R   R   R   R   D   D \n",
      " D   D   D   -   D   R   R   D \n",
      " R   R   R   R   D   -   R   D \n",
      " L   R   U   -   R   D   R   D \n",
      " L   -   -   R   R   D   -   D \n",
      " D   -   R   U   -   D   -   D \n",
      " R   D   D   -   D   R   R   ! \n",
      " \n"
     ]
    }
   ],
   "source": [
    "\n",
    "policyFound = [resolveActionDict(x, q[x,:]) for x in range(env.observation_space.n)]\n",
    "\n",
    "print(\"Greedy policy found:\")\n",
    "idxs = np.arange(0, env.observation_space.n, int(np.sqrt(env.observation_space.n)))\n",
    "for idx in idxs:\n",
    "    print(policyFound[idx+0], policyFound[idx+1], \n",
    "          policyFound[idx+2], policyFound[idx+3],\n",
    "          policyFound[idx+4], policyFound[idx+5],\n",
    "          policyFound[idx+6], policyFound[idx+7])\n",
    "\n",
    "print(\" \")\n",
    "\n",
    "# print(\"Optimal policy:\")\n",
    "# idxs = [0,4,8,12]\n",
    "# for idx in idxs:\n",
    "#     print(optimalPolicy[idx+0], optimalPolicy[idx+1], \n",
    "#           optimalPolicy[idx+2], optimalPolicy[idx+3])"
   ]
  },
  {
   "cell_type": "code",
   "execution_count": null,
   "metadata": {},
   "outputs": [],
   "source": [
    "\n",
    "\n"
   ]
  }
 ],
 "metadata": {
  "kernelspec": {
   "display_name": "Python 3.9.13 ('ml')",
   "language": "python",
   "name": "python3"
  },
  "language_info": {
   "codemirror_mode": {
    "name": "ipython",
    "version": 3
   },
   "file_extension": ".py",
   "mimetype": "text/x-python",
   "name": "python",
   "nbconvert_exporter": "python",
   "pygments_lexer": "ipython3",
   "version": "3.9.13"
  },
  "vscode": {
   "interpreter": {
    "hash": "204af188632125c60ad6342f1c37def9669d72c7a6f438c5864d7a4f5b0d95d0"
   }
  }
 },
 "nbformat": 4,
 "nbformat_minor": 4
}
