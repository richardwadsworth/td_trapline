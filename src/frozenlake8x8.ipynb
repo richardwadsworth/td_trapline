{
 "cells": [
  {
   "cell_type": "code",
   "execution_count": 29,
   "metadata": {},
   "outputs": [],
   "source": [
    "import numpy as np\n",
    "from numpy.random import random, choice\n",
    "import matplotlib.pyplot as plt\n",
    "%matplotlib inline\n",
    "\n",
    "import sys\n",
    "sys.path.insert(1, '/Users/richard/Documents/projects/py_learning/sussex/Dissertation/gym')\n",
    "\n",
    "import gym"
   ]
  },
  {
   "cell_type": "code",
   "execution_count": 30,
   "metadata": {},
   "outputs": [],
   "source": [
    "desc = [\n",
    "    \"SFFFFFFF\",\n",
    "    \"FFFFFFFF\",\n",
    "    \"FFFHFFFF\",\n",
    "    \"FFFFFHFF\",\n",
    "    \"FFFHFFFF\",\n",
    "    \"FHHFFFHF\",\n",
    "    \"FHFFHGHF\",\n",
    "    \"FFFHFFFF\",\n",
    "]\n",
    "\n",
    "env = gym.make('FrozenLake-v1', is_slippery=False, map_name=\"8x8\", desc=desc)"
   ]
  },
  {
   "cell_type": "code",
   "execution_count": 31,
   "metadata": {},
   "outputs": [
    {
     "name": "stdout",
     "output_type": "stream",
     "text": [
      "Action space =  Discrete(4)\n",
      "Observation space =  Discrete(64)\n"
     ]
    }
   ],
   "source": [
    "print(\"Action space = \", env.action_space)\n",
    "print(\"Observation space = \", env.observation_space)"
   ]
  },
  {
   "cell_type": "code",
   "execution_count": 32,
   "metadata": {},
   "outputs": [],
   "source": [
    "actionsDict = {}\n",
    "actionsDict[0] = \" L \"\n",
    "actionsDict[1] = \" D \"\n",
    "actionsDict[2] = \" R \"\n",
    "actionsDict[3] = \" U \"\n",
    "\n",
    "actionsDictInv = {}\n",
    "actionsDictInv[\"L\"] = 0\n",
    "actionsDictInv[\"D\"] = 1\n",
    "actionsDictInv[\"R\"] = 2\n",
    "actionsDictInv[\"U\"] = 3"
   ]
  },
  {
   "cell_type": "code",
   "execution_count": 33,
   "metadata": {},
   "outputs": [],
   "source": [
    "env.reset()\n",
    "env.render()"
   ]
  },
  {
   "cell_type": "code",
   "execution_count": 34,
   "metadata": {},
   "outputs": [],
   "source": [
    "# optimalPolicy = [\"R/D\",\" R \",\" D \",\" L \",\n",
    "#                  \" D \",\" - \",\" D \",\" - \",\n",
    "#                  \" R \",\"R/D\",\" D \",\" - \",\n",
    "#                  \" - \",\" R \",\" R \",\" ! \",]\n",
    "    \n",
    "# print(\"Optimal policy:\")\n",
    "# idxs = [0,4,8,12]\n",
    "# for idx in idxs:\n",
    "#     print(optimalPolicy[idx+0], optimalPolicy[idx+1], \n",
    "#           optimalPolicy[idx+2], optimalPolicy[idx+3])"
   ]
  },
  {
   "cell_type": "code",
   "execution_count": 35,
   "metadata": {},
   "outputs": [],
   "source": [
    "def action_epsilon_greedy(q, s, epsilon=0.05):\n",
    "    if np.random.rand() > epsilon:\n",
    "        return np.argmax(q[s])\n",
    "    return np.random.randint(4)\n",
    "\n",
    "def get_action_epsilon_greedy(epsilon):\n",
    "    return lambda q,s: action_epsilon_greedy(q, s, epsilon=epsilon)"
   ]
  },
  {
   "cell_type": "code",
   "execution_count": 36,
   "metadata": {},
   "outputs": [],
   "source": [
    "def greedy_policy(q, s):\n",
    "    return np.argmax(q[s])"
   ]
  },
  {
   "cell_type": "code",
   "execution_count": 37,
   "metadata": {},
   "outputs": [],
   "source": [
    "def average_performance(policy_fct, q):\n",
    "    acc_returns = 0.\n",
    "    n = 500\n",
    "    for i in range(n):\n",
    "        done = False\n",
    "        s = env.reset()\n",
    "        while not done:\n",
    "            a = policy_fct(q, s)\n",
    "            s, reward, done, info = env.step(a)\n",
    "            acc_returns += reward\n",
    "    return acc_returns/n"
   ]
  },
  {
   "cell_type": "code",
   "execution_count": 38,
   "metadata": {},
   "outputs": [],
   "source": [
    "# parameters for sarsa(lambda)\n",
    "episodes = 30000\n",
    "STEPS = 500\n",
    "gamma = 0.9\n",
    "alpha = 0.05\n",
    "epsilon_start = 0.2\n",
    "epsilon_end = 0.001\n",
    "epsilon_annealing_stop = int(episodes/2)\n",
    "eligibility_decay = 0.3\n",
    "\n",
    "GOAL_INDEX = 53"
   ]
  },
  {
   "cell_type": "code",
   "execution_count": 39,
   "metadata": {},
   "outputs": [],
   "source": [
    "\n",
    "q = np.ones((env.observation_space.n, env.action_space.n))\n",
    "# Set q(terminal,*) equal to 0\n",
    "q[19,:] = 0.0\n",
    "q[29,:] = 0.0\n",
    "q[35,:] = 0.0\n",
    "q[41,:] = 0.0\n",
    "q[42,:] = 0.0\n",
    "q[46,:] = 0.0\n",
    "q[49,:] = 0.0\n",
    "q[52,:] = 0.0\n",
    "q[54,:] = 0.0\n",
    "q[59,:] = 0.0\n",
    "\n",
    "q[GOAL_INDEX,:] = 0.0 #goal\n",
    "\n",
    "performance = np.ndarray(episodes//STEPS)"
   ]
  },
  {
   "cell_type": "code",
   "execution_count": 40,
   "metadata": {},
   "outputs": [],
   "source": [
    "def resolveActionState(actionState):\n",
    "\n",
    "    index = np.argmax(actionState)\n",
    "\n",
    "    if index == 0: #left\n",
    "        vertical = 0\n",
    "        horizontal = actionState[index] *-1\n",
    "    elif index == 1: #down\n",
    "        vertical = actionState[index] *-1\n",
    "        horizontal = 0\n",
    "    elif index == 2: #right\n",
    "        vertical = 0\n",
    "        horizontal = actionState[index]\n",
    "    elif index == 3: #up\n",
    "        vertical = actionState[index]\n",
    "        horizontal = 0\n",
    "        \n",
    "    return horizontal, vertical\n",
    "    "
   ]
  },
  {
   "cell_type": "code",
   "execution_count": 46,
   "metadata": {},
   "outputs": [],
   "source": [
    "from IPython.display import display, clear_output\n",
    "import time \n",
    "\n",
    "def getGoalCoordinates(goal_index):\n",
    "    side = int(np.sqrt(env.observation_space.n))\n",
    "    x= goal_index%side\n",
    "    y= int(np.floor(goal_index/side))\n",
    "\n",
    "    return x, y\n",
    "\n",
    "def plotActionStateQuiver():\n",
    "\n",
    "    dim=int(np.sqrt(env.observation_space.n))    \n",
    "    fig1, ax1 = plt.subplots(figsize=(5,5))\n",
    "    \n",
    "    policyFound = [resolveActionState(q[x,:]) for x in range(env.observation_space.n)]\n",
    "    \n",
    "    \n",
    "    i = np.arange(0,dim) #rows\n",
    "    j = np.arange(0,dim) #colums\n",
    "\n",
    "    ii, jj = np.meshgrid(i,j)#, indexing='ij')\n",
    "\n",
    "    # print(\"row indices:\\n{}\\n\".format(ii))\n",
    "    # print(\"column indices:\\n{}\".format(jj))\n",
    "\n",
    "    U = np.reshape([i[0] for i in policyFound], (dim, dim))\n",
    "    V = np.reshape([i[1] for i in policyFound], (dim, dim))\n",
    "\n",
    "    ax1.cla()\n",
    "\n",
    "\n",
    "    \n",
    "    ax1.scatter([0],[0], c='g', s=500, marker='^') #origin\n",
    "\n",
    "    x, y = getGoalCoordinates(GOAL_INDEX)\n",
    "    ax1.scatter([x],[y], c='r', s=500, marker='o') #goal\n",
    "    QP = ax1.quiver(ii,jj, U, V)\n",
    "    plt.gca().invert_yaxis()\n",
    "    # \n",
    "    # ax.set_aspect('equal')\n",
    "    # plt.grid()\n",
    "    # plt.show()\n",
    "    # drawing updated values\n",
    "\n",
    "    display(fig1)    \n",
    "    clear_output(wait = True)\n",
    "    # ax.clear()\n",
    "    plt.pause(0.1)\n",
    "    "
   ]
  },
  {
   "cell_type": "code",
   "execution_count": 42,
   "metadata": {},
   "outputs": [],
   "source": [
    "\n",
    "for episode in range(episodes):\n",
    "\n",
    "    inew = min(episode,epsilon_annealing_stop)\n",
    "    epsilon = (epsilon_start * (epsilon_annealing_stop - inew) + epsilon_end * inew) / epsilon_annealing_stop\n",
    "    \n",
    "    E = np.zeros((env.observation_space.n, env.action_space.n))\n",
    "    \n",
    "    state = env.reset()\n",
    "    action = action_epsilon_greedy(q, state, epsilon)\n",
    "\n",
    "    while True:\n",
    "\n",
    "        E = eligibility_decay * gamma * E\n",
    "        E[state, action] += 1\n",
    "        \n",
    "        new_state, reward, done, info = env.step(action)\n",
    "        \n",
    "        new_action = action_epsilon_greedy(q, new_state, epsilon)\n",
    "\n",
    "        delta = reward + gamma * q[new_state, new_action] - q[state, action]\n",
    "        q = q + alpha * delta * E \n",
    "\n",
    "        state, action = new_state, new_action\n",
    "\n",
    "        if done:\n",
    "            break\n",
    "\n",
    "    # only for plotting the performance, not part of the algorithm \n",
    "    if episode%STEPS == 0:\n",
    "        performance[episode//STEPS] = average_performance(get_action_epsilon_greedy(epsilon), q=q)"
   ]
  },
  {
   "cell_type": "code",
   "execution_count": 47,
   "metadata": {},
   "outputs": [
    {
     "data": {
      "image/png": "[encoded data removed]",
      "text/plain": [
       "<Figure size 360x360 with 1 Axes>"
      ]
     },
     "metadata": {
      "needs_background": "light"
     },
     "output_type": "display_data"
    }
   ],
   "source": [
    "plotActionStateQuiver()"
   ]
  },
  {
   "cell_type": "code",
   "execution_count": 17,
   "metadata": {},
   "outputs": [
    {
     "data": {
      "text/plain": [
       "Text(0, 0.5, 'Average reward of an epoch')"
      ]
     },
     "execution_count": 17,
     "metadata": {},
     "output_type": "execute_result"
    },
    {
     "data": {
      "image/png": "[encoded data removed]",
      "text/plain": [
       "<Figure size 432x288 with 1 Axes>"
      ]
     },
     "metadata": {
      "needs_background": "light"
     },
     "output_type": "display_data"
    }
   ],
   "source": [
    "plt.plot(STEPS*np.arange(episodes//STEPS), performance)\n",
    "plt.xlabel(\"Epochs\")\n",
    "plt.title(\"Learning progress for SARSA\")\n",
    "plt.ylabel(\"Average reward of an epoch\")"
   ]
  },
  {
   "cell_type": "code",
   "execution_count": 18,
   "metadata": {},
   "outputs": [
    {
     "name": "stdout",
     "output_type": "stream",
     "text": [
      "Greedy policy SARSA performance = 1.0\n"
     ]
    }
   ],
   "source": [
    "greedyPolicyAvgPerf = average_performance(greedy_policy, q=q)\n",
    "print(\"Greedy policy SARSA performance =\", greedyPolicyAvgPerf) "
   ]
  },
  {
   "cell_type": "code",
   "execution_count": 19,
   "metadata": {},
   "outputs": [
    {
     "name": "stdout",
     "output_type": "stream",
     "text": [
      "(A,S) Value function = (64, 4)\n",
      "First row\n",
      "[[0.284 0.294 0.346 0.286]\n",
      " [0.287 0.35  0.384 0.322]\n",
      " [0.321 0.426 0.377 0.343]\n",
      " [0.334 0.399 0.437 0.38 ]\n",
      " [0.372 0.508 0.37  0.425]\n",
      " [0.368 0.416 0.374 0.364]\n",
      " [0.399 0.439 0.407 0.404]\n",
      " [0.426 0.428 0.426 0.426]]\n",
      "Second row\n",
      "[[0.246 0.252 0.345 0.229]\n",
      " [0.244 0.28  0.418 0.249]\n",
      " [0.324 0.376 0.473 0.347]\n",
      " [0.355 0.004 0.526 0.364]\n",
      " [0.439 0.586 0.42  0.43 ]\n",
      " [0.396 0.417 0.476 0.376]\n",
      " [0.396 0.54  0.414 0.401]\n",
      " [0.446 0.444 0.444 0.443]]\n",
      "Third row\n",
      "[[0.278 0.282 0.277 0.274]\n",
      " [0.305 0.315 0.301 0.305]\n",
      " [0.328 0.447 0.116 0.327]\n",
      " [0.    0.    0.    0.   ]\n",
      " [0.    0.654 0.477 0.499]\n",
      " [0.421 0.166 0.543 0.41 ]\n",
      " [0.451 0.63  0.442 0.445]\n",
      " [0.481 0.489 0.482 0.48 ]]\n",
      "Fourth row\n",
      "[[0.307 0.309 0.32  0.304]\n",
      " [0.319 0.333 0.378 0.321]\n",
      " [0.344 0.347 0.54  0.313]\n",
      " [0.394 0.032 0.636 0.051]\n",
      " [0.536 0.729 0.    0.564]\n",
      " [0.    0.    0.    0.   ]\n",
      " [0.175 0.714 0.499 0.501]\n",
      " [0.535 0.554 0.522 0.524]]\n",
      "Fith row\n",
      "[[0.335 0.328 0.336 0.334]\n",
      " [0.345 0.324 0.346 0.346]\n",
      " [0.361 0.341 0.358 0.372]\n",
      " [0.    0.    0.    0.   ]\n",
      " [0.    0.763 0.81  0.624]\n",
      " [0.699 0.9   0.694 0.   ]\n",
      " [0.803 0.057 0.57  0.591]\n",
      " [0.648 0.569 0.581 0.564]]\n",
      "Six row\n",
      "[[0.384 0.387 0.184 0.385]\n",
      " [0.    0.    0.    0.   ]\n",
      " [0.    0.    0.    0.   ]\n",
      " [0.54  0.687 0.76  0.463]\n",
      " [0.65  0.    0.896 0.675]\n",
      " [0.795 1.    0.    0.78 ]\n",
      " [0.    0.    0.    0.   ]\n",
      " [0.377 0.641 0.641 0.64 ]]\n",
      "Seventh row\n",
      "[[0.422 0.422 0.341 0.42 ]\n",
      " [0.    0.    0.    0.   ]\n",
      " [0.569 0.599 0.605 0.599]\n",
      " [0.658 0.569 0.663 0.67 ]\n",
      " [0.    0.    0.    0.   ]\n",
      " [0.    0.    0.    0.   ]\n",
      " [0.    0.    0.    0.   ]\n",
      " [0.599 0.7   0.696 0.694]]\n",
      "Eighth row\n",
      "[[0.453 0.452 0.456 0.45 ]\n",
      " [0.504 0.503 0.512 0.397]\n",
      " [0.551 0.542 0.488 0.554]\n",
      " [0.    0.    0.    0.   ]\n",
      " [0.95  0.98  0.99  0.902]\n",
      " [0.947 0.964 0.963 1.   ]\n",
      " [0.889 0.879 0.878 0.663]\n",
      " [0.765 0.752 0.758 0.748]]\n"
     ]
    }
   ],
   "source": [
    "q = np.round(q,3)\n",
    "print(\"(A,S) Value function =\", q.shape)\n",
    "print(\"First row\")\n",
    "print(q[0:8,:])\n",
    "print(\"Second row\")\n",
    "print(q[8:16,:])\n",
    "print(\"Third row\")\n",
    "print(q[16:24,:])\n",
    "print(\"Fourth row\")\n",
    "print(q[24:32,:])\n",
    "print(\"Fith row\")\n",
    "print(q[32:40,:])\n",
    "print(\"Six row\")\n",
    "print(q[40:48,:])\n",
    "print(\"Seventh row\")\n",
    "print(q[48:56,:])\n",
    "print(\"Eighth row\")\n",
    "print(q[56:64,:])"
   ]
  },
  {
   "cell_type": "code",
   "execution_count": 20,
   "metadata": {},
   "outputs": [],
   "source": [
    "def resolveActionDict(x, actionState):\n",
    "    if x == GOAL_INDEX:\n",
    "        return \" ! \"\n",
    "    elif all(v == 0 for v in actionState):\n",
    "        return \" - \"\n",
    "    else:\n",
    "        return actionsDict[np.argmax(actionState)]\n",
    "    "
   ]
  },
  {
   "cell_type": "code",
   "execution_count": 21,
   "metadata": {},
   "outputs": [
    {
     "name": "stdout",
     "output_type": "stream",
     "text": [
      "Greedy policy found:\n",
      " R   R   D   R   D   D   D   D \n",
      " R   R   R   R   D   R   D   L \n",
      " D   D   D   -   D   R   D   D \n",
      " R   R   R   R   D   -   D   D \n",
      " R   R   U   -   R   D   L   L \n",
      " D   -   -   R   R   D   -   D \n",
      " L   -   R   U   -   !   -   D \n",
      " R   R   U   -   R   U   L   L \n",
      " \n"
     ]
    }
   ],
   "source": [
    "\n",
    "policyFound = [resolveActionDict(x, q[x,:]) for x in range(env.observation_space.n)]\n",
    "\n",
    "print(\"Greedy policy found:\")\n",
    "idxs = np.arange(0, env.observation_space.n, int(np.sqrt(env.observation_space.n)))\n",
    "for idx in idxs:\n",
    "    print(policyFound[idx+0], policyFound[idx+1], \n",
    "          policyFound[idx+2], policyFound[idx+3],\n",
    "          policyFound[idx+4], policyFound[idx+5],\n",
    "          policyFound[idx+6], policyFound[idx+7])\n",
    "\n",
    "print(\" \")\n",
    "\n",
    "# print(\"Optimal policy:\")\n",
    "# idxs = [0,4,8,12]\n",
    "# for idx in idxs:\n",
    "#     print(optimalPolicy[idx+0], optimalPolicy[idx+1], \n",
    "#           optimalPolicy[idx+2], optimalPolicy[idx+3])"
   ]
  },
  {
   "cell_type": "code",
   "execution_count": null,
   "metadata": {},
   "outputs": [],
   "source": [
    "\n",
    "\n"
   ]
  }
 ],
 "metadata": {
  "kernelspec": {
   "display_name": "Python 3.9.13 ('ml')",
   "language": "python",
   "name": "python3"
  },
  "language_info": {
   "codemirror_mode": {
    "name": "ipython",
    "version": 3
   },
   "file_extension": ".py",
   "mimetype": "text/x-python",
   "name": "python",
   "nbconvert_exporter": "python",
   "pygments_lexer": "ipython3",
   "version": "3.9.13"
  },
  "vscode": {
   "interpreter": {
    "hash": "204af188632125c60ad6342f1c37def9669d72c7a6f438c5864d7a4f5b0d95d0"
   }
  }
 },
 "nbformat": 4,
 "nbformat_minor": 4
}
